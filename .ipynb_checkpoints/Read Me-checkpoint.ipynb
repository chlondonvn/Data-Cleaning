{
 "cells": [
  {
   "cell_type": "markdown",
   "metadata": {},
   "source": [
    "# <img src=\"https://bit.ly/2VnXWr2\" alt=\"Ironhack Logo\" width=\"100\"/>\n",
    "\n",
    "# Data Cleaning\n",
    "*Charlotte Velilla Nunez*\n",
    "\n",
    "*[DATA ANALYSIS 08-20, Berlin & 23.08.20]*\n",
    "\n",
    "## Content\n",
    "- [Project Description](#project-description)\n",
    "- [Questions & Hypotheses](#questions-hypotheses)\n",
    "- [Dataset](#dataset)\n",
    "- [Database](#database)\n",
    "- [Workflow](#workflow)\n",
    "- [Organization](#organization)\n",
    "- [Links](#links)\n",
    "\n",
    "## Project Description\n",
    "Using Pandas to clean the Data Frame 'attacks.csv'.\n",
    "\n",
    "## Questions & Hypotheses\n",
    "Questions regarding data cleaning: What is the relevance of the data in each column? Is the presence of multiple NaN values criteria enough to discard columns? What is included in the data that can be deleted?  \n",
    "\n",
    "The answersto this questions prior cleaning the data were contemplated as follow: there will be irrelevant data present, the presence of multiple NaN values is not criteria enough to drop columns from Data Frame, perhaps there will be vague descriptions included that are not relevant or useful for the understanding of shark attacks. \n",
    "\n",
    "## Dataset\n",
    "Dataset = 'Attacks.csv'\n",
    "Original source of dataset: http://www.sharkattackfile.net/index.htm\n",
    "Link to messy dataset:  https://www.kaggle.com/teajay/global-shark-attacks/version/1\n",
    "\n",
    "Description of Dataset: This is a table of shark attack incidents compiled by the Global Shark Attack File.\n",
    "\n",
    "\n",
    "## Database\n",
    "\n",
    "Structure of database given is one table.\n",
    "\n",
    "## Workflow\n",
    "For more information and description of each step taken please see the Jupyter Notebook File included.\n",
    "\n",
    "## Organization\n",
    "\n",
    "The initial data frame was evaluated and called with head(), then an understanding of the shape() of the data frame was made.  The work organization started after a \"sketch\" of a viable clean table was produced and after this \"sketch\" was made, the steps in order to achieve the new data frame were listed and followed.\n",
    "\n",
    "## Links\n",
    "\n",
    "[Repository]https://github.com/chlondonvn/Data-Cleaning\n"
   ]
  },
  {
   "cell_type": "code",
   "execution_count": null,
   "metadata": {},
   "outputs": [],
   "source": []
  }
 ],
 "metadata": {
  "kernelspec": {
   "display_name": "Python 3",
   "language": "python",
   "name": "python3"
  },
  "language_info": {
   "codemirror_mode": {
    "name": "ipython",
    "version": 3
   },
   "file_extension": ".py",
   "mimetype": "text/x-python",
   "name": "python",
   "nbconvert_exporter": "python",
   "pygments_lexer": "ipython3",
   "version": "3.8.5"
  }
 },
 "nbformat": 4,
 "nbformat_minor": 4
}
